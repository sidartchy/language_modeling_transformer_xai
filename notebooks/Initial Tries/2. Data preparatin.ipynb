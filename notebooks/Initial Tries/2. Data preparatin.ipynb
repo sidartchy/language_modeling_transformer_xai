{
 "cells": [
  {
   "cell_type": "markdown",
   "id": "272ac6e3",
   "metadata": {},
   "source": [
    "## Here I'll be trying to create a Dataset and Dataloader class : )"
   ]
  },
  {
   "cell_type": "code",
   "execution_count": 3,
   "id": "5b15f4dc",
   "metadata": {},
   "outputs": [],
   "source": [
    "import torch \n",
    "import torch.nn as nn\n",
    "from torch.utils.data import Dataset, DataLoader\n",
    "import numpy as np"
   ]
  },
  {
   "cell_type": "markdown",
   "id": "851cfa15",
   "metadata": {},
   "source": [
    "Lets load the tokenizing model :) "
   ]
  },
  {
   "cell_type": "code",
   "execution_count": 4,
   "id": "39c9443b",
   "metadata": {},
   "outputs": [],
   "source": [
    "## Load the bin we created before ( the token_ids list)\n",
    "token_id_bin_path = \"../../data/processed/Initial/initial_token_ids.bin\""
   ]
  },
  {
   "cell_type": "code",
   "execution_count": 5,
   "id": "71e1dfc2",
   "metadata": {},
   "outputs": [
    {
     "data": {
      "text/plain": [
       "array([ 104, 3077, 4615, 2115,  209], dtype=uint16)"
      ]
     },
     "execution_count": 5,
     "metadata": {},
     "output_type": "execute_result"
    }
   ],
   "source": [
    "token_ids = np.fromfile(token_id_bin_path, dtype=np.uint16)\n",
    "\n",
    "token_ids[:5]"
   ]
  },
  {
   "cell_type": "code",
   "execution_count": 6,
   "id": "f041df5c",
   "metadata": {},
   "outputs": [],
   "source": [
    "## Define the context-length\n",
    "block_size = 64    # The context length of 64\n"
   ]
  },
  {
   "cell_type": "markdown",
   "id": "0ed605a6",
   "metadata": {},
   "source": [
    "Lets create a Dataset class, which returns us the token of size *context_length*."
   ]
  },
  {
   "cell_type": "code",
   "execution_count": 7,
   "id": "ff743e3d",
   "metadata": {},
   "outputs": [],
   "source": [
    "class TokenDataset(Dataset):\n",
    "    def __init__(self):\n",
    "        pass\n",
    "\n",
    "    def __len__(self):\n",
    "        pass\n",
    "\n",
    "    def __getitem__(self):\n",
    "        pass"
   ]
  },
  {
   "cell_type": "code",
   "execution_count": null,
   "id": "a37e3ead",
   "metadata": {},
   "outputs": [],
   "source": []
  }
 ],
 "metadata": {
  "kernelspec": {
   "display_name": "venv",
   "language": "python",
   "name": "python3"
  },
  "language_info": {
   "codemirror_mode": {
    "name": "ipython",
    "version": 3
   },
   "file_extension": ".py",
   "mimetype": "text/x-python",
   "name": "python",
   "nbconvert_exporter": "python",
   "pygments_lexer": "ipython3",
   "version": "3.12.6"
  }
 },
 "nbformat": 4,
 "nbformat_minor": 5
}
